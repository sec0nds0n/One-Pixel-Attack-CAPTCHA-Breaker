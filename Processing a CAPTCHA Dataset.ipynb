{
 "cells": [
  {
   "cell_type": "code",
   "execution_count": null,
   "metadata": {},
   "outputs": [],
   "source": [
    "import os\n",
    "import glob\n",
    "CAPTCHA_IMAGE_FOLDER = \"captcha_images\"\n",
    "OUTPUT_FOLDER = \"extracted_letter_images\"\n",
    "# ambil semua file yang ada di folder *\n",
    "captcha_image_files = glob.glob(os.path.join(CAPTCHA_IMAGE_FOLDER, \"*\"))"
   ]
  },
  {
   "cell_type": "code",
   "execution_count": null,
   "metadata": {},
   "outputs": [],
   "source": [
    "counts = {}"
   ]
  },
  {
   "cell_type": "code",
   "execution_count": null,
   "metadata": {},
   "outputs": [],
   "source": [
    "def preprocessImage(img):\n",
    "    gray = cv2.cvtColor(img, cv2.COLOR_BGR2GRAY) #bikin jadi grayscale\n",
    "    #nambahin pixel sehingga fix 8 8 dengan nilai pixel sesuai dengan ujung gambar asli\n",
    "    gray = cv2.copyMakeBorder(gray, 8, 8, 8, 8, cv2.BORDER_REPLICATE) \n",
    "    #threshold untuk pixel, yg jadi 0 cv2.THRESH_BINARY_INV, 255 pake cv2.THRESH_OTSU\n",
    "    thresh = cv2.threshold(gray, 0, 255, cv2.THRESH_BINARY_INV | cv2.THRESH_OTSU)[1]\n",
    "    return gray, thresh\n",
    "\n",
    "def contoursToRectangles(contours):\n",
    "    letter_image_regions = []\n",
    "    for contour in contours:\n",
    "        #bikin boundary kotak per hurufnya\n",
    "        (x, y, w, h) = cv2.boundingRect(contour)\n",
    "        if w / h > 1.25:\n",
    "            half_width = int(w / 2)\n",
    "            letter_image_regions.append((x, y, half_width, h))\n",
    "            letter_image_regions.append((x + half_width, y, half_width, h))\n",
    "        else:\n",
    "            letter_image_regions.append((x, y, w, h))\n",
    "    return letter_image_regions"
   ]
  },
  {
   "cell_type": "code",
   "execution_count": null,
   "metadata": {},
   "outputs": [],
   "source": [
    "import cv2\n",
    "import imutils\n",
    "import numpy as np\n",
    "\n",
    "for (i, captcha_image_file) in enumerate(captcha_image_files):\n",
    "    print(\"Processing image {}/{}\".format(i + 1, len(captcha_image_files)))\n",
    "    filename = os.path.basename(captcha_image_file)\n",
    "    captcha_correct_text = os.path.splitext(filename)[0]#ngambil nilai angka dari captcha\n",
    "\n",
    "    image = cv2.imread(captcha_image_file)\n",
    "    gray, preprocessedImage = preprocessImage(image) #gambar & threshold\n",
    "    #3 argumen, imagenya, retrieval metodenya sama aproksimasi countour methodnya\n",
    "    contours = cv2.findContours(preprocessedImage.copy(), cv2.RETR_EXTERNAL, cv2.CHAIN_APPROX_SIMPLE)\n",
    "    #output counter itu koordinat boundarynya\n",
    "    contours = contours[0]\n",
    "\n",
    "    letter_image_regions = contoursToRectangles(contours)\n",
    "\n",
    "    if len(letter_image_regions) != 4:\n",
    "        continue\n",
    "    #sort sesuai urutann hurufnya (countour[0])\n",
    "    letter_image_regions = sorted(letter_image_regions, key=lambda x: x[0])\n",
    "\n",
    "    for letter_bounding_box, letter_text in zip(letter_image_regions, captcha_correct_text):\n",
    "        #zip gabung 2 list jadi 1 tuple gitu\n",
    "        x, y, w, h = letter_bounding_box\n",
    "        letter_image = gray[y - 2:y + h + 2, x - 2:x + w + 2]\n",
    "        save_path = os.path.join(OUTPUT_FOLDER, letter_text)\n",
    "        if not os.path.exists(save_path):\n",
    "            os.makedirs(save_path)\n",
    "\n",
    "        count = counts.get(letter_text, 1)\n",
    "        p = os.path.join(save_path, \"{}.png\".format(str(count).zfill(6)))\n",
    "        cv2.imwrite(p, letter_image)\n",
    "\n",
    "        counts[letter_text] = count + 1"
   ]
  },
  {
   "cell_type": "code",
   "execution_count": null,
   "metadata": {},
   "outputs": [],
   "source": []
  }
 ],
 "metadata": {
  "kernelspec": {
   "display_name": "Python 3",
   "language": "python",
   "name": "python3"
  },
  "language_info": {
   "codemirror_mode": {
    "name": "ipython",
    "version": 3
   },
   "file_extension": ".py",
   "mimetype": "text/x-python",
   "name": "python",
   "nbconvert_exporter": "python",
   "pygments_lexer": "ipython3",
   "version": "3.8.1"
  }
 },
 "nbformat": 4,
 "nbformat_minor": 2
}
